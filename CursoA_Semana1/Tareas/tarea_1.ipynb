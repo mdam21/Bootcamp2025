{
  "nbformat": 4,
  "nbformat_minor": 0,
  "metadata": {
    "colab": {
      "provenance": [],
      "authorship_tag": "ABX9TyNGnPTcZaFU2AujHHQUY+MT",
      "include_colab_link": true
    },
    "kernelspec": {
      "name": "python3",
      "display_name": "Python 3"
    },
    "language_info": {
      "name": "python"
    }
  },
  "cells": [
    {
      "cell_type": "markdown",
      "metadata": {
        "id": "view-in-github",
        "colab_type": "text"
      },
      "source": [
        "<a href=\"https://colab.research.google.com/github/wbandabarragan/Bootcamp2025/blob/main/CursoA_Semana1/Tareas/tarea_1.ipynb\" target=\"_parent\"><img src=\"https://colab.research.google.com/assets/colab-badge.svg\" alt=\"Open In Colab\"/></a>"
      ]
    },
    {
      "cell_type": "markdown",
      "source": [
        "# Tarea 1: Visualización con Python\n",
        "\n",
        "Esta tarea consiste en añadir ruido a los perfiles de densidad 1D, 2D y 3D, que revisamos en este cuaderno en clase:\n",
        "\n",
        "https://github.com/Astronomia-Ecuador/Bootcamp2025/blob/main/CursoA_Semana1/Clase_02/Clase_2a.ipynb\n",
        "\n",
        "Al añadir ruido con cierta amplitud, tendremos perfiles mucho más realistas para las nubes.\n",
        "\n",
        "Pueden trabajar individualmente o en grupos de 2 personas.\n",
        "\n",
        "## Instrucciones:\n",
        "\n",
        "- ¿Cómo generar ruido? Podemos utilizar generadores de números aleatorios con numpy:\n",
        "\n",
        "https://numpy.org/doc/stable/reference/random/generated/numpy.random.randn.html\n",
        "\n",
        "-  Para el caso 1D, debemos graficar:\n",
        "\n",
        "$$\\rho(z) = \\rho_0 \\, \\text{sech}^2 \\left( \\frac{z}{H} \\right) + N(x)$$\n",
        "\n",
        "donde la función $N(x)$ es un vector (arreglo 1D) de ruido generado con NumPy.\n",
        "\n",
        "- Para el caso 2D, debemos graficar:\n",
        "\n",
        "$$\\rho(r) = \\frac{\\rho0}{\\left(1 + \\frac{r^2}{8 H^2} \\right)^2}+N(r)$$\n",
        "\n",
        "donde la función $N(r)$ es una matriz (arreglo 2D) de ruido generado con NumPy.\n",
        "\n",
        "- Para el caso 3D, debemos graficar:\n",
        "\n",
        "$$\\rho(r) = \\frac{\\rho_0}{\\left(1 + \\frac{r^2}{r_c^2} \\right)^{3/2}}+N(r)$$\n",
        "\n",
        "donde la función $N(r)$ es una matriz (arreglo 3D) de ruido generado con NumPy.\n",
        "\n",
        "\n",
        "\n",
        "## Preguntas:\n",
        "\n",
        "Mi nombre es Wladimir Banda Barragán (https://github.com/wbandabarragan)\n",
        "\n",
        "En caso de inquietudes, pueden escribirme a wbanda@yachaytech.edu.ec\n",
        "\n",
        "O escribirme por WhatsApp al: 0994745221"
      ],
      "metadata": {
        "id": "p6sEZR-0kTEY"
      }
    }
  ]
}