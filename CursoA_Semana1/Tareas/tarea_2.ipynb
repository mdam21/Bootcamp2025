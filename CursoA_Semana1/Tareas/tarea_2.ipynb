{
  "nbformat": 4,
  "nbformat_minor": 0,
  "metadata": {
    "colab": {
      "provenance": [],
      "authorship_tag": "ABX9TyNuxHdT3pYHDGhTCbwLdx7u",
      "include_colab_link": true
    },
    "kernelspec": {
      "name": "python3",
      "display_name": "Python 3"
    },
    "language_info": {
      "name": "python"
    }
  },
  "cells": [
    {
      "cell_type": "markdown",
      "metadata": {
        "id": "view-in-github",
        "colab_type": "text"
      },
      "source": [
        "<a href=\"https://colab.research.google.com/github/wbandabarragan/Bootcamp2025/blob/main/CursoA_Semana1/Tareas/tarea_2.ipynb\" target=\"_parent\"><img src=\"https://colab.research.google.com/assets/colab-badge.svg\" alt=\"Open In Colab\"/></a>"
      ]
    },
    {
      "cell_type": "markdown",
      "source": [
        "# Tarea 2: Análisis de Imágenes en Python\n",
        "\n",
        "Esta tarea consiste en analizar imágenes que provienen de un microscopio de barrido electrónico de Escherichia coli. El trabajo consiste en analizar la reducción de la bacteria Escherichia coli (E. coli) tras el tratamiento con nanopartículas de óxido de zinc (ZnO). Las imágenes que se muestran a continuación se obtuvieron con un microscopio electrónico de barrido (MEB), antes y después de 5 horas de tratamiento con ZnO. Un píxel de la imagen tiene un área de 0,02µm².\n",
        "\n",
        "#### Imagen de SEM antes del tratamiento con ZnO:\n",
        "https://github.com/wbandabarragan/physics-teaching-data/blob/main/2D-data/bacteria_before.jpg\n",
        "\n",
        "#### Imagen de SEM después del tratamiento con ZnO:\n",
        "https://github.com/wbandabarragan/physics-teaching-data/blob/main/2D-data/bacteria_after.jpg\n",
        "\n",
        "Pueden trabajar individualmente o en grupos de 2 personas.\n",
        "\n",
        "## Instrucciones:\n",
        "\n",
        "En base a lo analizado en clase:\n",
        "\n",
        "https://github.com/wbandabarragan/Bootcamp2025/blob/main/CursoA_Semana1/Clase_02/Clase_2c.ipynb\n",
        "\n",
        "https://github.com/wbandabarragan/Bootcamp2025/blob/main/CursoA_Semana1/Clase_02/Clase_2d.ipynb\n",
        "\n",
        "debemos analizar la eficacia de este tratamiento antibacteriano realizando lo siguiente:\n",
        "\n",
        "- Descargar las dos imágenes anteriores y cargarlas en Google Drive.\n",
        "\n",
        "- Graficar las 2 imágenes para revisar el antes y después del tratamiento con ZnO.\n",
        "\n",
        "- Crear histogramas de cada imagen y definir un umbral para remover el fondo.\n",
        "\n",
        "- Aplicar un algoritmo de umbral para islar el área cubierta por la bacteria E. coli del fondo. Producir imágenes binarias del antes y después.\n",
        "\n",
        "- Calcular en píxeles y unidades físicas el área total cubierta por la bacteria E. coli antes y después del tratamiento.\n",
        "\n",
        "- La relación entre dichas áreas: ¿cuán efectivo es el tratamiento antibacteriano con nanopartículas de ZnO?\n",
        "\n",
        "##### Referencia de imágenes SEM: Zhang et al. 2007, https://link.springer.com/article/10.1007/s11051-006-9150-1\n",
        "\n",
        "## Preguntas:\n",
        "\n",
        "Mi nombre es Wladimir Banda Barragán (https://github.com/wbandabarragan)\n",
        "\n",
        "En caso de inquietudes, pueden escribirme a wbanda@yachaytech.edu.ec\n",
        "\n",
        "O escribirme por WhatsApp al: 0994745221"
      ],
      "metadata": {
        "id": "p6sEZR-0kTEY"
      }
    }
  ]
}