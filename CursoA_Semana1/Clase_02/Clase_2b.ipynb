{
  "cells": [
    {
      "cell_type": "markdown",
      "metadata": {
        "colab_type": "text",
        "id": "view-in-github"
      },
      "source": [
        "<a href=\"https://colab.research.google.com/github/wbandabarragan/Bootcamp2025/blob/main/CursoA_Semana1/Clase_02/Clase_2b.ipynb\" target=\"_parent\"><img src=\"https://colab.research.google.com/assets/colab-badge.svg\" alt=\"Open In Colab\"/></a>"
      ]
    },
    {
      "cell_type": "markdown",
      "id": "c4a4d45e-34c7-49fa-9d6d-451d81b68981",
      "metadata": {
        "id": "c4a4d45e-34c7-49fa-9d6d-451d81b68981"
      },
      "source": [
        "# Data I/O, pandas, and interactive widgets\n",
        "\n",
        "In this lecture we will look into data I/O with pandas, 1D data analysis (spectral fitting) and astropy.\n",
        "\n",
        "The packages are:\n",
        "\n",
        "- Pandas: https://pandas.pydata.org\n",
        "- Astropy: https://www.astropy.org"
      ]
    },
    {
      "cell_type": "code",
      "execution_count": null,
      "id": "hkyhkKaCTeVz",
      "metadata": {
        "colab": {
          "base_uri": "https://localhost:8080/"
        },
        "id": "hkyhkKaCTeVz",
        "outputId": "e3cf856a-bbe7-48f0-a658-8d463ebb8250"
      },
      "outputs": [
        {
          "name": "stdout",
          "output_type": "stream",
          "text": [
            "Drive already mounted at /content/drive; to attempt to forcibly remount, call drive.mount(\"/content/drive\", force_remount=True).\n"
          ]
        }
      ],
      "source": [
        "#PARA COLAB\n",
        "\n",
        "#from google.colab import drive\n",
        "#drive.mount('/content/drive')"
      ]
    },
    {
      "cell_type": "markdown",
      "id": "a695fc9c-cb27-47d7-95a1-9e2167b73f71",
      "metadata": {
        "id": "a695fc9c-cb27-47d7-95a1-9e2167b73f71"
      },
      "source": [
        "## 1. Review of Data I/O\n",
        "\n",
        "- Native open() function\n",
        "- Third-party pandas library\n",
        "\n",
        "### I/O with open():"
      ]
    },
    {
      "cell_type": "code",
      "execution_count": 1,
      "id": "da20a9f9-59d2-4749-800e-8aadee69cbe8",
      "metadata": {
        "id": "da20a9f9-59d2-4749-800e-8aadee69cbe8"
      },
      "outputs": [],
      "source": [
        "# Import libraries\n",
        "import numpy as np\n",
        "import matplotlib.pyplot as plt"
      ]
    },
    {
      "cell_type": "code",
      "execution_count": 2,
      "id": "78ae3f29-fae1-4a8b-9ff9-3032f34fe4a3",
      "metadata": {
        "id": "78ae3f29-fae1-4a8b-9ff9-3032f34fe4a3"
      },
      "outputs": [],
      "source": [
        "# Generate some sample data\n",
        "\n",
        "data_1 = np.arange(0., 10., 1.)\n",
        "data_2 = np.arange(10., 20., 1.)\n",
        "data_3 = np.arange(20., 30., 1.)\n",
        "\n",
        "#print(data_1, data_2, data_3)"
      ]
    },
    {
      "cell_type": "code",
      "execution_count": 3,
      "id": "37469895",
      "metadata": {},
      "outputs": [
        {
          "name": "stdout",
          "output_type": "stream",
          "text": [
            "Clase_2a.ipynb\tClase_2c.ipynb\tClase_2g.ipynb\n",
            "Clase_2b.ipynb\tClase_2d.ipynb\timages\n"
          ]
        }
      ],
      "source": [
        "!ls"
      ]
    },
    {
      "cell_type": "code",
      "execution_count": null,
      "id": "Gt2knFhCTCFs",
      "metadata": {
        "id": "Gt2knFhCTCFs"
      },
      "outputs": [],
      "source": [
        "# Now let's write these vectors as columns into a data file\n",
        "file = open(\"/Output/test_file.txt\", \"w\")\n",
        "\n",
        "# Write vectors as columns\n",
        "for i in range(len(data_1)):\n",
        "    print(data_1[i], data_2[i], data_3[i], file = open(\"/Output/test_file.txt\", \"a\"))\n",
        "\n",
        "file.close()"
      ]
    },
    {
      "cell_type": "markdown",
      "id": "VWNVM4-2Uxl1",
      "metadata": {
        "id": "VWNVM4-2Uxl1"
      },
      "source": [
        "### I/O with Pandas"
      ]
    },
    {
      "cell_type": "code",
      "execution_count": null,
      "id": "U0sv-hs6U0Gj",
      "metadata": {
        "id": "U0sv-hs6U0Gj"
      },
      "outputs": [],
      "source": [
        "import pandas as pd"
      ]
    },
    {
      "cell_type": "code",
      "execution_count": null,
      "id": "WWKhtNHVU1Vl",
      "metadata": {
        "id": "WWKhtNHVU1Vl"
      },
      "outputs": [],
      "source": [
        "data_dict = {'Column_Ones': data_1, 'Column_Twenties': data_2, 'Column_Thirties': data_3}\n",
        "\n",
        "# Create a Pandas DataFrame from the dictionary\n",
        "df = pd.DataFrame(data_dict)\n",
        "\n",
        "#print(df)\n",
        "\n",
        "# Save file with CSV format\n",
        "\n",
        "df.to_csv(\"/content/drive/MyDrive/Bootcamp2025/test_file.csv\", index=False)"
      ]
    },
    {
      "cell_type": "markdown",
      "id": "rcGCrI6fXl-e",
      "metadata": {
        "id": "rcGCrI6fXl-e"
      },
      "source": [
        "## Exercise: Moving Plane Waves and Loops\n",
        "\n",
        "### Moving wave:\n",
        "\n",
        "$y = A\\sin(kx-\\omega t)$"
      ]
    },
    {
      "cell_type": "code",
      "execution_count": null,
      "id": "g6kM08tnZ221",
      "metadata": {
        "id": "g6kM08tnZ221"
      },
      "outputs": [],
      "source": [
        "import os"
      ]
    },
    {
      "cell_type": "code",
      "execution_count": null,
      "id": "G1tU0zOwXpq1",
      "metadata": {
        "id": "G1tU0zOwXpq1"
      },
      "outputs": [],
      "source": [
        "# Time vector\n",
        "t = np.arange(0, 16*np.pi, 0.1)\n",
        "\n",
        "# X vectors:\n",
        "x = np.arange(-8*np.pi, +8*np.pi, 0.5)\n",
        "\n",
        "# Y vector\n",
        "y = []\n",
        "\n",
        "# Define the amplitud, spatial and time frequencies\n",
        "a = 2.\n",
        "k_1 = 1.\n",
        "w_1 = 0.1\n",
        "\n",
        "# Loop\n",
        "for i in range(len(t)):\n",
        "\n",
        "    y.append(a*np.sin(k_1*x - w_1*i))\n",
        "\n",
        "    data_dict = {'x': x, 'y': y[0]}\n",
        "    df = pd.DataFrame(data_dict)\n",
        "    #fname = os.path.join(\"/content/drive/MyDrive/Bootcamp2025\", f\"moving_wave_{i:03d}.csv\")\n",
        "    #df.to_csv(fname, index=False)\n",
        "\n",
        "y = np.array(y)\n",
        "\n",
        "#print(x.shape, y.shape)"
      ]
    },
    {
      "cell_type": "markdown",
      "id": "XeeizmMBbmJp",
      "metadata": {
        "id": "XeeizmMBbmJp"
      },
      "source": [
        "## 2. 2D visualisation:"
      ]
    },
    {
      "cell_type": "code",
      "execution_count": null,
      "id": "8hnOu0I8bYL9",
      "metadata": {
        "id": "8hnOu0I8bYL9"
      },
      "outputs": [],
      "source": [
        "# Meshgrid\n",
        "\n",
        "x_2d, t_2d = np.meshgrid(x,t)"
      ]
    },
    {
      "cell_type": "code",
      "execution_count": null,
      "id": "C4WEraqzbDeh",
      "metadata": {
        "colab": {
          "base_uri": "https://localhost:8080/",
          "height": 453
        },
        "id": "C4WEraqzbDeh",
        "outputId": "fe2cdf2f-b578-4964-8dff-44d3f940458f"
      },
      "outputs": [
        {
          "data": {
            "image/png": "[encoded data removed]",
            "text/plain": [
              "<Figure size 640x480 with 1 Axes>"
            ]
          },
          "metadata": {},
          "output_type": "display_data"
        }
      ],
      "source": [
        "plt.figure()\n",
        "\n",
        "plt.pcolor(x_2d, t_2d, y)\n",
        "\n",
        "plt.xlabel(r\"$x$\")\n",
        "plt.ylabel(r\"$t$\")\n",
        "\n",
        "plt.show()"
      ]
    },
    {
      "cell_type": "markdown",
      "id": "b5wtGWBlcSpL",
      "metadata": {
        "id": "b5wtGWBlcSpL"
      },
      "source": [
        "### 3. The IPython + matplotlib libraries:"
      ]
    },
    {
      "cell_type": "code",
      "execution_count": null,
      "id": "3ynfHXYpcC2L",
      "metadata": {
        "id": "3ynfHXYpcC2L"
      },
      "outputs": [],
      "source": [
        "from matplotlib import animation\n",
        "from IPython import display"
      ]
    },
    {
      "cell_type": "code",
      "execution_count": null,
      "id": "k3-GyRkDb6j6",
      "metadata": {
        "id": "k3-GyRkDb6j6"
      },
      "outputs": [],
      "source": [
        "%%capture\n",
        "\n",
        "# Empty figure environment\n",
        "fig, ax = plt.subplots(1, 1, figsize=(6,4))\n",
        "line, = ax.plot([],[])\n",
        "ax.set_xlim(-8*np.pi, 8*np.pi)\n",
        "ax.set_ylim(-5., 5.)\n",
        "plt.title(\"Travelling plane wave\")\n",
        "\n",
        "# Animation function\n",
        "def animate_wave(i):\n",
        "    \"\"\"\n",
        "    Function to create animation based on the empty fig. env.\n",
        "    \"\"\"\n",
        "    y_i = y[i, :]\n",
        "    line.set_data(x, y_i)\n",
        "    return line\n",
        "\n",
        "# Create animation\n",
        "movie_wave = animation.FuncAnimation(fig, animate_wave, frames = len(t), interval = 0.1)"
      ]
    },
    {
      "cell_type": "code",
      "execution_count": null,
      "id": "rHFQVmcmcHKe",
      "metadata": {
        "id": "rHFQVmcmcHKe"
      },
      "outputs": [],
      "source": [
        "# Visualisation\n",
        "\n",
        "#display.HTML(movie_wave.to_jshtml())"
      ]
    },
    {
      "cell_type": "markdown",
      "id": "UOvGOK7UPC6d",
      "metadata": {
        "id": "UOvGOK7UPC6d"
      },
      "source": [
        "## Exercise: Cosmological Redshift and Age of the Universe\n",
        "\n",
        "The expansion of the Universe causes cosmological redshifts ($z$) of spectral lines that are currently ($z=0$) in their rest frames. The relationship between the observed wavelength $\\lambda_{\\text{obs}}$ and the wavelength emitted by a distant object $\\lambda_{\\text{em}}$ located at a redshift $z$ is given by:\n",
        "\n",
        "$\\lambda_{\\text{obs}} = \\lambda_{\\text{em}} (1 + z)$\n",
        "\n",
        "Since frequency $\\nu$ is inversely proportional to wavelength, then:\n",
        "\n",
        "$\\nu_{\\text{obs}} = \\frac{\\nu_{\\text{em}}}{1 + z}$\n",
        "\n",
        "Furthermore, the age of the Universe at a given $z$ can be calculated by integrating the inverse of the Hubble parameter:\n",
        "\n",
        "$t(z) = \\int_{z}^{\\infty} \\frac{1}{(1+z') H(z')} d{z'}$\n",
        "\n",
        "The cosmological scale factor $a(t)$ is related to redshift through:\n",
        "\n",
        "$a = \\frac{1}{1+z}$\n",
        "\n",
        "In the $\\Lambda$-CDM model, the Hubble parameter $H(z)$ is expressed as:\n",
        "\n",
        "$H(z) = H_0 \\sqrt{\\Omega_m (1+z)^3 + \\Omega_r (1+z)^4 + \\Omega_\\Lambda}$\n",
        "\n",
        "Where:\n",
        "\n",
        "- $H_0$: Hubble constant at the present time.\n",
        "  \n",
        "- $\\Omega_m$: Matter density parameter\n",
        "  \n",
        "- $\\Omega_r$: Radiation density parameter\n",
        "\n",
        "- $\\Omega_\\Lambda$: Dark energy density parameter"
      ]
    },
    {
      "cell_type": "code",
      "execution_count": null,
      "id": "gpZ1tJsidQ0h",
      "metadata": {
        "id": "gpZ1tJsidQ0h"
      },
      "outputs": [],
      "source": [
        "from ipywidgets import interact, FloatSlider, Checkbox, VBox\n",
        "from scipy.integrate import quad"
      ]
    },
    {
      "cell_type": "code",
      "execution_count": null,
      "id": "MZv9-lixE4uH",
      "metadata": {
        "id": "MZv9-lixE4uH"
      },
      "outputs": [],
      "source": [
        "# Cosmological parameters (standard cosmological model)\n",
        "H0 = 70.0  # Hubble constant in km/s/Mpc\n",
        "Omega_m = 0.27  # Matter density parameter (dark + baryonic)\n",
        "Omega_r = 0.0  # Radiation density parameter (can be taken as zero)\n",
        "Omega_Lambda = 0.73  # Dark energy density parameter\n",
        "\n",
        "# Conversion constants\n",
        "H0_in_s = H0 * 3.24078e-20  # Convert H0 from km/s/Mpc to 1/s\n",
        "Mpc_in_km = 3.085677581e19  # 1 Mpc in kilometers\n",
        "s_to_Gyr = 3.16888e-17  # 1 second in Gyr\n"
      ]
    },
    {
      "cell_type": "code",
      "execution_count": null,
      "id": "wJcX4hKdPeHL",
      "metadata": {
        "id": "wJcX4hKdPeHL"
      },
      "outputs": [],
      "source": [
        "# Hubble parameter as a function of redshift\n",
        "def H_z(z, H0, Omega_m, Omega_r, Omega_Lambda):\n",
        "    \"\"\"\n",
        "    Calculates H(z) using the Lambda-CDM model.\n",
        "    Inputs: z -> Redshift, H0 -> Hubble Constant (in km/s/Mpc),\n",
        "              Omega_m -> Dark/baryonic matter density,\n",
        "              Omega_r -> Radiation density,\n",
        "              Omega_Lambda: Dark energy density\n",
        "    Output: H(z) in km/s/Mpc\n",
        "    \"\"\"\n",
        "    return H0 * np.sqrt(Omega_m * (1 + z)**3 + Omega_r * (1 + z)**4 + Omega_Lambda)\n",
        "\n",
        "# Function to calculate the integrand for the age of the Universe\n",
        "def integrand(z, H0, Omega_m, Omega_r, Omega_Lambda):\n",
        "    \"\"\"\n",
        "    Calculates the integral 1 / [(1 + z) H(z)] to find the age of the Universe.\n",
        "    \"\"\"\n",
        "    return 1 / ((1 + z) * H_z(z, H0, Omega_m, Omega_r, Omega_Lambda))\n",
        "\n",
        "# Age of the Universe at redshift z\n",
        "def age_of_universe(z, H0=H0_in_s, Omega_m=Omega_m, Omega_r=Omega_r, Omega_Lambda=Omega_Lambda):\n",
        "    \"\"\"\n",
        "    Calculates the age of the Universe in Gyr for a given redshift z.\n",
        "    Inputs: z -> Redshift\n",
        "              H0, Omega_m, Omega_r, Omega_Lambda -> Cosmological parameters\n",
        "    Output: Age of the Universe in Gyr\n",
        "    \"\"\"\n",
        "    # Performs the integration from z to infinity\n",
        "    age, _ = quad(integrand, z, np.inf, args=(H0, Omega_m, Omega_r, Omega_Lambda))\n",
        "    return age * s_to_Gyr  # Converts age from seconds to Gyr\n",
        "\n",
        "# Function to calculate H(z) and the age of the Universe\n",
        "def calculate_Hz_and_age(z):\n",
        "    \"\"\"\n",
        "    Calculates H(z) and the age of the Universe for a given redshift z.\n",
        "    Inputs:\n",
        "        z: Redshift\n",
        "    Output:\n",
        "        Hz: Hubble parameter in km/s/Mpc\n",
        "        age: Age of the Universe in Gyr\n",
        "    \"\"\"\n",
        "    # Calculate H(z)\n",
        "    Hz = H_z(z, H0, Omega_m, Omega_r, Omega_Lambda)\n",
        "\n",
        "    # Calculate the age of the Universe\n",
        "    age = age_of_universe(z, H0=H0_in_s, Omega_m=Omega_m, Omega_r=Omega_r, Omega_Lambda=Omega_Lambda)\n",
        "\n",
        "    return Hz, age\n",
        "\n",
        "# Synthetic Lyman alpha line\n",
        "def linea_espectral(x_val, mu, sigma, n_points):\n",
        "    \"\"\"\n",
        "    This returns the values for a normal distro.\n",
        "    Inputs: x_val -> x axis, mu -> mean, sigma -> std. dev., n_points -> number of points for noise\n",
        "    Output: y\n",
        "    \"\"\"\n",
        "\n",
        "    # Gaussian function\n",
        "    coef_g = 1./(sigma*(np.sqrt(2*np.pi)))\n",
        "\n",
        "    y_val = coef_g*np.exp(-0.5*(x_val - mu)**2/sigma**2)\n",
        "\n",
        "    # Seed for random generator\n",
        "    np.random.seed(77)\n",
        "\n",
        "    # Adding noise\n",
        "    n_val = 1.e-4*np.random.normal(0., 1., size = (n_points,))\n",
        "\n",
        "    # Adding a baseline\n",
        "    b_val = 0.1\n",
        "\n",
        "    y = y_val + n_val + b_val\n",
        "\n",
        "    return y\n",
        "\n",
        "# Cosmological redshift function\n",
        "def z_cosmologico(l_0, z):\n",
        "    \"\"\"\n",
        "    Function that calculates the cosmological redshift of a line\n",
        "    in a rest frame (z=0).\n",
        "    Input: l_0 -> base spectral line wavelength\n",
        "    Output: l_obs -> observed wavelength.\n",
        "    \"\"\"\n",
        "    l_obs = l_0*(1. + z)\n",
        "    return l_obs\n",
        "\n",
        "def save_data_to_csv(z_value, age_value, filename='cosmo_data.csv'):\n",
        "    \"\"\"\n",
        "    Saves redshift (z) and age of the Universe to a CSV file.\n",
        "    Appends to the file if it exists, creates it if not.\n",
        "    \"\"\"\n",
        "    data = {'redshift': [z_value], 'age_Gyr': [age_value]}\n",
        "    df = pd.DataFrame(data)\n",
        "\n",
        "    return None"
      ]
    },
    {
      "cell_type": "code",
      "execution_count": null,
      "id": "6LVrcsjxdoBZ",
      "metadata": {
        "id": "6LVrcsjxdoBZ"
      },
      "outputs": [],
      "source": [
        "\n",
        "# Plotting function\n",
        "def plot_lines(z, show_Lyman_alpha, show_H_alpha):\n",
        "    # Wavelengths for Lyman-alpha and H-alpha\n",
        "    l_lyman_alpha = 1216  # Lambda for Lyman-alpha (in Angstroms)\n",
        "    l_h_alpha = 6563  # Lambda for H-alpha (in Angstroms)\n",
        "    sigma_1 = 50  # Standard deviation of the Gaussian spectral line\n",
        "    n_points = 10000  # Number of points to be considered\n",
        "\n",
        "    # Example usage\n",
        "    Hz, age = calculate_Hz_and_age(z)\n",
        "\n",
        "    # Output CSV file\n",
        "    save_data_to_csv(z, age)\n",
        "\n",
        "    # Lambda axis\n",
        "    x = np.linspace(0, 16000, n_points)\n",
        "\n",
        "    # Graph\n",
        "    plt.figure(figsize=(12,5))\n",
        "\n",
        "    plt.title(f\"Hubble constant H(z) is {Hz:.2f} km/s/Mpc and the age of the Universe is {age:.2f} Gyr for z = {z}\")\n",
        "\n",
        "    # Visible spectrum range (400 nm to 700 nm)\n",
        "    visible_min = 4000  # 400 nm in Angstroms\n",
        "    visible_max = 7000  # 700 nm in Angstroms\n",
        "\n",
        "    plt.fill_between(x, 0, 1, where=(x >= visible_min) & (x <= visible_max), color='pink', alpha=0.5, label=\"Visible Range\")\n",
        "\n",
        "    # Label the visible spectrum\n",
        "    plt.axvline(visible_min, color='black', linestyle='--')\n",
        "    plt.axvline(visible_max, color='black', linestyle='--')\n",
        "\n",
        "    # Lyman Alpha\n",
        "    if show_Lyman_alpha:\n",
        "        # Lyman alpha profile\n",
        "        y_lyman = linea_espectral(x, l_lyman_alpha, sigma_1, n_points)\n",
        "        # Shift the Lyman-alpha line according to the redshift\n",
        "        l_obs_lyman = z_cosmologico(l_lyman_alpha, z)\n",
        "        y_obs_lyman = linea_espectral(x, l_obs_lyman, sigma_1, n_points)\n",
        "        plt.plot(x, y_lyman, color = \"red\", label=r\"Lyman $\\alpha$ at z=0.0\")\n",
        "        plt.plot(x, y_obs_lyman, color = \"blue\", label=rf\"Lyman $\\alpha$ at z={z}\")\n",
        "\n",
        "    # H Alpha\n",
        "    if show_H_alpha:\n",
        "        # H-alpha profile\n",
        "        y_h_alpha = linea_espectral(x, l_h_alpha, sigma_1, n_points)\n",
        "        # Shift the H-alpha line according to the redshift\n",
        "        l_obs_h_alpha = z_cosmologico(l_h_alpha, z)\n",
        "        y_obs_h_alpha = linea_espectral(x, l_obs_h_alpha, sigma_1, n_points)\n",
        "        plt.plot(x, y_h_alpha, color = \"brown\", label=r\"H$_\\alpha$ at z=0\")\n",
        "        plt.plot(x, y_obs_h_alpha, color = \"darkblue\", label=f\"H Alpha at z={z}\")\n",
        "\n",
        "    # Labels\n",
        "    plt.grid(True)\n",
        "    plt.xlim(0, 16000)\n",
        "    plt.ylim(0.095, 0.11)\n",
        "    plt.xlabel(r\"$\\lambda\\,[\\text{Angstroms}]$\")\n",
        "    plt.ylabel(r\"$N$\")\n",
        "    plt.legend(loc = 4)\n",
        "    plt.show()\n",
        "\n",
        "# Interactive controls for z and option checkboxes for lines\n",
        "z_scroll = FloatSlider(value=0, min=0, max=10, step=0.1, description=r'$z$')\n",
        "\n",
        "lyman_c = Checkbox(value=True, description=rf\"Show Ly$\\alpha$ at $\\lambda_0=1216\\,\\rm A$\")\n",
        "halph_c = Checkbox(value=False, description=rf\"Show H$\\alpha$ at $\\lambda_0=6563\\,\\rm A$\")\n",
        "\n",
        "# Display the interactive widgets\n",
        "#interact(plot_lines, z=z_scroll , show_Lyman_alpha=lyman_c, show_H_alpha=halph_c)"
      ]
    }
  ],
  "metadata": {
    "colab": {
      "include_colab_link": true,
      "provenance": []
    },
    "kernelspec": {
      "display_name": ".venv",
      "language": "python",
      "name": "python3"
    },
    "language_info": {
      "codemirror_mode": {
        "name": "ipython",
        "version": 3
      },
      "file_extension": ".py",
      "mimetype": "text/x-python",
      "name": "python",
      "nbconvert_exporter": "python",
      "pygments_lexer": "ipython3",
      "version": "3.12.3"
    }
  },
  "nbformat": 4,
  "nbformat_minor": 5
}
